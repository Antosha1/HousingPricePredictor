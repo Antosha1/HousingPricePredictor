{
 "cells": [
  {
   "cell_type": "code",
   "execution_count": 20,
   "id": "humanitarian-footage",
   "metadata": {},
   "outputs": [],
   "source": [
    "import pandas as pd\n",
    "import numpy as np\n",
    "import matplotlib.pyplot as plt\n",
    "import seaborn as sns\n",
    "\n",
    "import statsmodels.api as sm\n",
    "from scipy.stats import boxcox\n",
    "from scipy.special import inv_boxcox\n",
    "\n",
    "from sklearn.linear_model import RidgeCV, Ridge\n",
    "from sklearn.preprocessing import StandardScaler\n",
    "from sklearn.model_selection import train_test_split\n",
    "\n",
    "import warnings\n",
    "warnings.filterwarnings(\"ignore\")"
   ]
  },
  {
   "cell_type": "code",
   "execution_count": 2,
   "id": "rough-chapter",
   "metadata": {},
   "outputs": [
    {
     "data": {
      "text/html": [
       "<div>\n",
       "<style scoped>\n",
       "    .dataframe tbody tr th:only-of-type {\n",
       "        vertical-align: middle;\n",
       "    }\n",
       "\n",
       "    .dataframe tbody tr th {\n",
       "        vertical-align: top;\n",
       "    }\n",
       "\n",
       "    .dataframe thead th {\n",
       "        text-align: right;\n",
       "    }\n",
       "</style>\n",
       "<table border=\"1\" class=\"dataframe\">\n",
       "  <thead>\n",
       "    <tr style=\"text-align: right;\">\n",
       "      <th></th>\n",
       "      <th>SalePrice</th>\n",
       "      <th>Overall Qual</th>\n",
       "      <th>Gr Liv Area</th>\n",
       "      <th>Garage Area</th>\n",
       "      <th>Total Bsmt SF</th>\n",
       "      <th>Year Built</th>\n",
       "      <th>Full Bath</th>\n",
       "      <th>Fireplaces</th>\n",
       "      <th>Mas Vnr Area</th>\n",
       "      <th>Lot Frontage</th>\n",
       "      <th>...</th>\n",
       "      <th>Garage Type_NA</th>\n",
       "      <th>Paved Drive_N</th>\n",
       "      <th>Paved Drive_P</th>\n",
       "      <th>Paved Drive_Y</th>\n",
       "      <th>Sale Condition_Abnorml</th>\n",
       "      <th>Sale Condition_AdjLand</th>\n",
       "      <th>Sale Condition_Alloca</th>\n",
       "      <th>Sale Condition_Family</th>\n",
       "      <th>Sale Condition_Normal</th>\n",
       "      <th>Sale Condition_Partial</th>\n",
       "    </tr>\n",
       "  </thead>\n",
       "  <tbody>\n",
       "    <tr>\n",
       "      <th>0</th>\n",
       "      <td>215000</td>\n",
       "      <td>6</td>\n",
       "      <td>1656</td>\n",
       "      <td>528.0</td>\n",
       "      <td>1080.0</td>\n",
       "      <td>1960</td>\n",
       "      <td>1</td>\n",
       "      <td>2</td>\n",
       "      <td>112.0</td>\n",
       "      <td>141.0</td>\n",
       "      <td>...</td>\n",
       "      <td>0</td>\n",
       "      <td>0</td>\n",
       "      <td>1</td>\n",
       "      <td>0</td>\n",
       "      <td>0</td>\n",
       "      <td>0</td>\n",
       "      <td>0</td>\n",
       "      <td>0</td>\n",
       "      <td>1</td>\n",
       "      <td>0</td>\n",
       "    </tr>\n",
       "    <tr>\n",
       "      <th>1</th>\n",
       "      <td>105000</td>\n",
       "      <td>5</td>\n",
       "      <td>896</td>\n",
       "      <td>730.0</td>\n",
       "      <td>882.0</td>\n",
       "      <td>1961</td>\n",
       "      <td>1</td>\n",
       "      <td>0</td>\n",
       "      <td>0.0</td>\n",
       "      <td>80.0</td>\n",
       "      <td>...</td>\n",
       "      <td>0</td>\n",
       "      <td>0</td>\n",
       "      <td>0</td>\n",
       "      <td>1</td>\n",
       "      <td>0</td>\n",
       "      <td>0</td>\n",
       "      <td>0</td>\n",
       "      <td>0</td>\n",
       "      <td>1</td>\n",
       "      <td>0</td>\n",
       "    </tr>\n",
       "    <tr>\n",
       "      <th>2</th>\n",
       "      <td>172000</td>\n",
       "      <td>6</td>\n",
       "      <td>1329</td>\n",
       "      <td>312.0</td>\n",
       "      <td>1329.0</td>\n",
       "      <td>1958</td>\n",
       "      <td>1</td>\n",
       "      <td>0</td>\n",
       "      <td>108.0</td>\n",
       "      <td>81.0</td>\n",
       "      <td>...</td>\n",
       "      <td>0</td>\n",
       "      <td>0</td>\n",
       "      <td>0</td>\n",
       "      <td>1</td>\n",
       "      <td>0</td>\n",
       "      <td>0</td>\n",
       "      <td>0</td>\n",
       "      <td>0</td>\n",
       "      <td>1</td>\n",
       "      <td>0</td>\n",
       "    </tr>\n",
       "    <tr>\n",
       "      <th>3</th>\n",
       "      <td>244000</td>\n",
       "      <td>7</td>\n",
       "      <td>2110</td>\n",
       "      <td>522.0</td>\n",
       "      <td>2110.0</td>\n",
       "      <td>1968</td>\n",
       "      <td>2</td>\n",
       "      <td>2</td>\n",
       "      <td>0.0</td>\n",
       "      <td>93.0</td>\n",
       "      <td>...</td>\n",
       "      <td>0</td>\n",
       "      <td>0</td>\n",
       "      <td>0</td>\n",
       "      <td>1</td>\n",
       "      <td>0</td>\n",
       "      <td>0</td>\n",
       "      <td>0</td>\n",
       "      <td>0</td>\n",
       "      <td>1</td>\n",
       "      <td>0</td>\n",
       "    </tr>\n",
       "    <tr>\n",
       "      <th>4</th>\n",
       "      <td>189900</td>\n",
       "      <td>5</td>\n",
       "      <td>1629</td>\n",
       "      <td>482.0</td>\n",
       "      <td>928.0</td>\n",
       "      <td>1997</td>\n",
       "      <td>2</td>\n",
       "      <td>1</td>\n",
       "      <td>0.0</td>\n",
       "      <td>74.0</td>\n",
       "      <td>...</td>\n",
       "      <td>0</td>\n",
       "      <td>0</td>\n",
       "      <td>0</td>\n",
       "      <td>1</td>\n",
       "      <td>0</td>\n",
       "      <td>0</td>\n",
       "      <td>0</td>\n",
       "      <td>0</td>\n",
       "      <td>1</td>\n",
       "      <td>0</td>\n",
       "    </tr>\n",
       "  </tbody>\n",
       "</table>\n",
       "<p>5 rows × 167 columns</p>\n",
       "</div>"
      ],
      "text/plain": [
       "   SalePrice  Overall Qual  Gr Liv Area  Garage Area  Total Bsmt SF  \\\n",
       "0     215000             6         1656        528.0         1080.0   \n",
       "1     105000             5          896        730.0          882.0   \n",
       "2     172000             6         1329        312.0         1329.0   \n",
       "3     244000             7         2110        522.0         2110.0   \n",
       "4     189900             5         1629        482.0          928.0   \n",
       "\n",
       "   Year Built  Full Bath  Fireplaces  Mas Vnr Area  Lot Frontage  ...  \\\n",
       "0        1960          1           2         112.0         141.0  ...   \n",
       "1        1961          1           0           0.0          80.0  ...   \n",
       "2        1958          1           0         108.0          81.0  ...   \n",
       "3        1968          2           2           0.0          93.0  ...   \n",
       "4        1997          2           1           0.0          74.0  ...   \n",
       "\n",
       "   Garage Type_NA  Paved Drive_N  Paved Drive_P  Paved Drive_Y  \\\n",
       "0               0              0              1              0   \n",
       "1               0              0              0              1   \n",
       "2               0              0              0              1   \n",
       "3               0              0              0              1   \n",
       "4               0              0              0              1   \n",
       "\n",
       "   Sale Condition_Abnorml  Sale Condition_AdjLand  Sale Condition_Alloca  \\\n",
       "0                       0                       0                      0   \n",
       "1                       0                       0                      0   \n",
       "2                       0                       0                      0   \n",
       "3                       0                       0                      0   \n",
       "4                       0                       0                      0   \n",
       "\n",
       "   Sale Condition_Family  Sale Condition_Normal  Sale Condition_Partial  \n",
       "0                      0                      1                       0  \n",
       "1                      0                      1                       0  \n",
       "2                      0                      1                       0  \n",
       "3                      0                      1                       0  \n",
       "4                      0                      1                       0  \n",
       "\n",
       "[5 rows x 167 columns]"
      ]
     },
     "execution_count": 2,
     "metadata": {},
     "output_type": "execute_result"
    }
   ],
   "source": [
    "df = pd.read_csv('../data/clean_data.csv')\n",
    "df.head()"
   ]
  },
  {
   "cell_type": "code",
   "execution_count": 3,
   "id": "automated-velvet",
   "metadata": {},
   "outputs": [],
   "source": [
    "y = df['SalePrice']\n",
    "X = df.drop(columns=['SalePrice'])"
   ]
  },
  {
   "cell_type": "markdown",
   "id": "unlike-bernard",
   "metadata": {},
   "source": [
    "Выделим числовые признаки."
   ]
  },
  {
   "cell_type": "code",
   "execution_count": 4,
   "id": "integral-sponsorship",
   "metadata": {},
   "outputs": [
    {
     "name": "stdout",
     "output_type": "stream",
     "text": [
      "Gr Liv Area, Garage Area, Total Bsmt SF, Year Built, Mas Vnr Area, Lot Frontage, Open Porch SF\n"
     ]
    }
   ],
   "source": [
    "num_features = []\n",
    "\n",
    "for feature in list(X):\n",
    "    if X[feature].nunique() > 10:\n",
    "        num_features.append(feature)\n",
    "        \n",
    "print(*num_features, sep=', ')"
   ]
  },
  {
   "cell_type": "markdown",
   "id": "organic-student",
   "metadata": {},
   "source": [
    "## Построение baseline модели"
   ]
  },
  {
   "cell_type": "code",
   "execution_count": 5,
   "id": "crazy-blame",
   "metadata": {},
   "outputs": [],
   "source": [
    "X_train, X_test, y_train, y_test = train_test_split(X, y, test_size=0.3, random_state=17)\n",
    "\n",
    "ss = StandardScaler()\n",
    "X_train[num_features] = ss.fit_transform(X_train[num_features])\n",
    "X_test[num_features] = ss.fit_transform(X_test[num_features])"
   ]
  },
  {
   "cell_type": "code",
   "execution_count": 6,
   "id": "imported-relationship",
   "metadata": {},
   "outputs": [
    {
     "name": "stdout",
     "output_type": "stream",
     "text": [
      "                            OLS Regression Results                            \n",
      "==============================================================================\n",
      "Dep. Variable:              SalePrice   R-squared:                       0.912\n",
      "Model:                            OLS   Adj. R-squared:                  0.905\n",
      "Method:                 Least Squares   F-statistic:                     136.0\n",
      "Date:                Sun, 21 Mar 2021   Prob (F-statistic):               0.00\n",
      "Time:                        22:06:03   Log-Likelihood:                -23031.\n",
      "No. Observations:                2020   AIC:                         4.635e+04\n",
      "Df Residuals:                    1876   BIC:                         4.716e+04\n",
      "Df Model:                         143                                         \n",
      "Covariance Type:            nonrobust                                         \n",
      "==========================================================================================\n",
      "                             coef    std err          t      P>|t|      [0.025      0.975]\n",
      "------------------------------------------------------------------------------------------\n",
      "const                   5125.3672   3033.126      1.690      0.091    -823.289    1.11e+04\n",
      "Overall Qual            8871.7349    767.807     11.555      0.000    7365.890    1.04e+04\n",
      "Gr Liv Area             2.465e+04   1262.927     19.518      0.000    2.22e+04    2.71e+04\n",
      "Garage Area             6221.4267    878.446      7.082      0.000    4498.593    7944.260\n",
      "Total Bsmt SF           6500.0168   1140.682      5.698      0.000    4262.879    8737.155\n",
      "Year Built              7038.3926   1828.648      3.849      0.000    3451.995    1.06e+04\n",
      "Full Bath              -1207.4443   1559.723     -0.774      0.439   -4266.418    1851.530\n",
      "Fireplaces              5722.4774   1032.769      5.541      0.000    3696.980    7747.975\n",
      "Mas Vnr Area            4048.2282    820.865      4.932      0.000    2438.324    5658.132\n",
      "Lot Frontage            1582.5104    760.178      2.082      0.037      91.626    3073.394\n",
      "Open Porch SF            833.6172    586.170      1.422      0.155    -315.997    1983.232\n",
      "Exter Qual              5405.6622   1660.953      3.255      0.001    2148.152    8663.173\n",
      "Exter Cond              3723.5552   1528.620      2.436      0.015     725.580    6721.530\n",
      "Bsmt Qual               3525.8365   1269.817      2.777      0.006    1035.434    6016.239\n",
      "Bsmt Cond              -2797.1528   1506.019     -1.857      0.063   -5750.802     156.496\n",
      "Bsmt Exposure           5663.2269    664.166      8.527      0.000    4360.646    6965.808\n",
      "BsmtFin Type 1          3142.6659    303.197     10.365      0.000    2548.027    3737.305\n",
      "BsmtFin Type 2           247.4376    600.645      0.412      0.680    -930.565    1425.440\n",
      "Heating QC              2032.7544    723.814      2.808      0.005     613.188    3452.321\n",
      "Kitchen Qual            9566.9299   1193.666      8.015      0.000    7225.877    1.19e+04\n",
      "Garage Finish           1874.6011    939.169      1.996      0.046      32.675    3716.527\n",
      "MS SubClass_120        -2.288e+04   8189.988     -2.793      0.005   -3.89e+04   -6813.392\n",
      "MS SubClass_150         -1.34e-10   5.12e-11     -2.615      0.009   -2.35e-10   -3.35e-11\n",
      "MS SubClass_160        -2.546e+04   8900.090     -2.861      0.004   -4.29e+04   -8008.631\n",
      "MS SubClass_180         -3.45e+04   1.22e+04     -2.828      0.005   -5.84e+04   -1.06e+04\n",
      "MS SubClass_190         1861.8321   1.69e+04      0.110      0.912   -3.12e+04    3.49e+04\n",
      "MS SubClass_20          1.109e+04   4431.214      2.503      0.012    2399.234    1.98e+04\n",
      "MS SubClass_30          1.135e+04   5284.141      2.148      0.032     988.928    2.17e+04\n",
      "MS SubClass_40          1.722e+04   1.06e+04      1.618      0.106   -3653.508    3.81e+04\n",
      "MS SubClass_45          1.221e+04   1.75e+04      0.696      0.486   -2.22e+04    4.66e+04\n",
      "MS SubClass_50          1.027e+04   5764.551      1.781      0.075   -1036.541    2.16e+04\n",
      "MS SubClass_60          1.116e+04   4935.284      2.261      0.024    1480.389    2.08e+04\n",
      "MS SubClass_70          1.364e+04   5129.614      2.660      0.008    3584.638    2.37e+04\n",
      "MS SubClass_75          1.356e+04    1.1e+04      1.235      0.217   -7975.271    3.51e+04\n",
      "MS SubClass_80         -8052.6126      1e+04     -0.803      0.422   -2.77e+04    1.16e+04\n",
      "MS SubClass_85           436.5788   7094.389      0.062      0.951   -1.35e+04    1.44e+04\n",
      "MS SubClass_90         -6781.5070   2478.215     -2.736      0.006   -1.16e+04   -1921.159\n",
      "MS Zoning_A (agr)       3472.1414   1.97e+04      0.176      0.860   -3.51e+04    4.21e+04\n",
      "MS Zoning_C (all)       5166.6900   7596.200      0.680      0.496   -9731.200    2.01e+04\n",
      "MS Zoning_FV             1.05e+04   6721.809      1.562      0.119   -2685.324    2.37e+04\n",
      "MS Zoning_I (all)       -4.12e+04   2.25e+04     -1.834      0.067   -8.53e+04    2864.454\n",
      "MS Zoning_RH            1.229e+04   7315.164      1.680      0.093   -2058.857    2.66e+04\n",
      "MS Zoning_RL            1.085e+04   5349.805      2.028      0.043     355.094    2.13e+04\n",
      "MS Zoning_RM            4053.2915   5356.621      0.757      0.449   -6452.271    1.46e+04\n",
      "Lot Shape_IR1          -1451.6987   2179.834     -0.666      0.506   -5726.853    2823.455\n",
      "Lot Shape_IR2           8965.7075   3350.356      2.676      0.008    2394.892    1.55e+04\n",
      "Lot Shape_IR3          -1467.3290   5710.551     -0.257      0.797   -1.27e+04    9732.371\n",
      "Lot Shape_Reg           -921.3126   2219.657     -0.415      0.678   -5274.569    3431.944\n",
      "Land Contour_Bnk       -5672.1141   2558.132     -2.217      0.027   -1.07e+04    -655.030\n",
      "Land Contour_HLS        7554.2292   2781.580      2.716      0.007    2098.913     1.3e+04\n",
      "Land Contour_Low        3552.1032   3130.310      1.135      0.257   -2587.153    9691.359\n",
      "Land Contour_Lvl        -308.8511   1706.512     -0.181      0.856   -3655.713    3038.010\n",
      "Lot Config_Corner       2326.6315   2115.792      1.100      0.272   -1822.923    6476.186\n",
      "Lot Config_CulDSac      7820.4811   2580.616      3.030      0.002    2759.302    1.29e+04\n",
      "Lot Config_FR2         -2588.6631   3080.871     -0.840      0.401   -8630.958    3453.632\n",
      "Lot Config_FR3         -4706.8044   6718.053     -0.701      0.484   -1.79e+04    8468.838\n",
      "Lot Config_Inside       2273.7220   1901.365      1.196      0.232   -1455.291    6002.736\n",
      "Neighborhood_Blmngtn   -1.277e+04   6327.053     -2.018      0.044   -2.52e+04    -359.966\n",
      "Neighborhood_Blueste    2094.3584   9904.819      0.211      0.833   -1.73e+04    2.15e+04\n",
      "Neighborhood_BrDale     1.187e+04   6578.872      1.804      0.071   -1037.470    2.48e+04\n",
      "Neighborhood_BrkSide    -611.5447   3848.625     -0.159      0.874   -8159.580    6936.491\n",
      "Neighborhood_ClearCr   -5328.5087   5013.485     -1.063      0.288   -1.52e+04    4504.085\n",
      "Neighborhood_CollgCr   -1.809e+04   2449.299     -7.385      0.000   -2.29e+04   -1.33e+04\n",
      "Neighborhood_Crawfor    1.094e+04   3323.504      3.291      0.001    4420.956    1.75e+04\n",
      "Neighborhood_Edwards   -1.221e+04   2616.116     -4.669      0.000   -1.73e+04   -7083.235\n",
      "Neighborhood_Gilbert   -1.671e+04   3028.223     -5.518      0.000   -2.26e+04   -1.08e+04\n",
      "Neighborhood_Greens    -9437.3655   9424.804     -1.001      0.317   -2.79e+04    9046.837\n",
      "Neighborhood_GrnHill    1.144e+05    1.6e+04      7.131      0.000    8.29e+04    1.46e+05\n",
      "Neighborhood_IDOTRR    -9761.2263   4753.386     -2.054      0.040   -1.91e+04    -438.746\n",
      "Neighborhood_Landmrk   -2.786e-11    3.5e-11     -0.796      0.426   -9.65e-11    4.07e-11\n",
      "Neighborhood_MeadowV   -2772.9878   7249.749     -0.382      0.702    -1.7e+04    1.14e+04\n",
      "Neighborhood_Mitchel    -1.17e+04   2945.588     -3.971      0.000   -1.75e+04   -5918.501\n",
      "Neighborhood_NAmes     -1.451e+04   2185.300     -6.640      0.000   -1.88e+04   -1.02e+04\n",
      "Neighborhood_NPkVill    1.768e+04   1.03e+04      1.723      0.085   -2441.660    3.78e+04\n",
      "Neighborhood_NWAmes    -1.685e+04   3016.111     -5.588      0.000   -2.28e+04   -1.09e+04\n",
      "Neighborhood_NoRidge    1.377e+04   4128.781      3.336      0.001    5674.606    2.19e+04\n",
      "Neighborhood_NridgHt    1.884e+04   3337.920      5.645      0.000    1.23e+04    2.54e+04\n",
      "Neighborhood_OldTown   -1.336e+04   3738.471     -3.573      0.000   -2.07e+04   -6026.940\n",
      "Neighborhood_SWISU     -1.216e+04   4929.504     -2.467      0.014   -2.18e+04   -2493.157\n",
      "Neighborhood_Sawyer    -1.328e+04   2761.289     -4.808      0.000   -1.87e+04   -7859.873\n",
      "Neighborhood_SawyerW   -2.032e+04   2928.856     -6.937      0.000   -2.61e+04   -1.46e+04\n",
      "Neighborhood_Somerst   -3724.7302   4511.708     -0.826      0.409   -1.26e+04    5123.765\n",
      "Neighborhood_StoneBr    2.303e+04   4669.422      4.932      0.000    1.39e+04    3.22e+04\n",
      "Neighborhood_Timber    -1.163e+04   3651.795     -3.186      0.001   -1.88e+04   -4472.370\n",
      "Neighborhood_Veenker   -2261.9854   5869.815     -0.385      0.700   -1.38e+04    9250.068\n",
      "Bldg Type_1Fam          -464.8547   5888.248     -0.079      0.937    -1.2e+04    1.11e+04\n",
      "Bldg Type_2fmCon         719.7575   1.48e+04      0.049      0.961   -2.83e+04    2.98e+04\n",
      "Bldg Type_Duplex       -6781.5070   2478.215     -2.736      0.006   -1.16e+04   -1921.159\n",
      "Bldg Type_Twnhs         2203.3981   7204.294      0.306      0.760   -1.19e+04    1.63e+04\n",
      "Bldg Type_TwnhsE        9448.5732   6630.153      1.425      0.154   -3554.677    2.25e+04\n",
      "House Style_1.5Fin     -2708.6894   5495.067     -0.493      0.622   -1.35e+04    8068.397\n",
      "House Style_1.5Unf     -4128.4593   1.51e+04     -0.274      0.784   -3.37e+04    2.55e+04\n",
      "House Style_1Story      2925.1682   5285.212      0.553      0.580   -7440.344    1.33e+04\n",
      "House Style_2.5Fin     -1.988e+04   1.19e+04     -1.670      0.095   -4.32e+04    3468.866\n",
      "House Style_2.5Unf      8158.7193   9246.805      0.882      0.378   -9976.386    2.63e+04\n",
      "House Style_2Story     -1444.1401   4736.539     -0.305      0.760   -1.07e+04    7845.298\n",
      "House Style_SFoyer      8096.0309   6634.594      1.220      0.223   -4915.930    2.11e+04\n",
      "House Style_SLvl        1.411e+04   9735.967      1.449      0.148   -4988.600    3.32e+04\n",
      "Roof Style_Flat        -2746.4782   6646.143     -0.413      0.679   -1.58e+04    1.03e+04\n",
      "Roof Style_Gable        4920.4364   2937.823      1.675      0.094    -841.308    1.07e+04\n",
      "Roof Style_Gambrel       597.0983   5685.485      0.105      0.916   -1.06e+04    1.17e+04\n",
      "Roof Style_Hip          9783.8916   3126.649      3.129      0.002    3651.816    1.59e+04\n",
      "Roof Style_Mansard      -1.12e+04   7147.310     -1.567      0.117   -2.52e+04    2814.347\n",
      "Roof Style_Shed         3773.5852   1.05e+04      0.360      0.719   -1.68e+04    2.43e+04\n",
      "Exterior 1st_AsbShng    2730.7713   7854.849      0.348      0.728   -1.27e+04    1.81e+04\n",
      "Exterior 1st_AsphShn   -1.021e+04   3.15e+04     -0.324      0.746   -7.19e+04    5.15e+04\n",
      "Exterior 1st_BrkComm    7721.9664    1.2e+04      0.642      0.521   -1.59e+04    3.13e+04\n",
      "Exterior 1st_BrkFace    8418.0567   5566.278      1.512      0.131   -2498.691    1.93e+04\n",
      "Exterior 1st_CBlock    -9065.1861   2.28e+04     -0.398      0.691   -5.37e+04    3.56e+04\n",
      "Exterior 1st_CemntBd    1.341e+04    1.6e+04      0.840      0.401   -1.79e+04    4.47e+04\n",
      "Exterior 1st_HdBoard   -7856.5359   4812.686     -1.632      0.103   -1.73e+04    1582.244\n",
      "Exterior 1st_ImStucc    1.436e-11   1.23e-11      1.163      0.245   -9.86e-12    3.86e-11\n",
      "Exterior 1st_MetalSd   -4514.5563   7051.085     -0.640      0.522   -1.83e+04    9314.239\n",
      "Exterior 1st_Plywood   -1629.8672   4965.618     -0.328      0.743   -1.14e+04    8108.848\n",
      "Exterior 1st_PreCast    4.329e+04   1.15e+04      3.778      0.000    2.08e+04    6.58e+04\n",
      "Exterior 1st_Stone      -1.95e+04   2.21e+04     -0.884      0.377   -6.28e+04    2.38e+04\n",
      "Exterior 1st_Stucco    -4239.1034   6807.678     -0.623      0.534   -1.76e+04    9112.313\n",
      "Exterior 1st_VinylSd   -5791.2532   6353.989     -0.911      0.362   -1.83e+04    6670.376\n",
      "Exterior 1st_Wd Sdng   -7631.6156   4777.141     -1.598      0.110    -1.7e+04    1737.453\n",
      "Exterior 1st_WdShing     -15.6843   6081.197     -0.003      0.998   -1.19e+04    1.19e+04\n",
      "Exterior 2nd_AsbShng   -1.139e+04   8279.732     -1.375      0.169   -2.76e+04    4849.938\n",
      "Exterior 2nd_AsphShn    1.148e+04   2.29e+04      0.501      0.617   -3.35e+04    5.64e+04\n",
      "Exterior 2nd_Brk Cmn   -1.682e+04   1.13e+04     -1.494      0.135   -3.89e+04    5258.966\n",
      "Exterior 2nd_BrkFace   -9156.5204   6248.596     -1.465      0.143   -2.14e+04    3098.409\n",
      "Exterior 2nd_CBlock     1223.8623   2.07e+04      0.059      0.953   -3.93e+04    4.18e+04\n",
      "Exterior 2nd_CmentBd    -1.08e+04   1.61e+04     -0.671      0.502   -4.24e+04    2.08e+04\n",
      "Exterior 2nd_HdBoard    -239.9012   4464.290     -0.054      0.957   -8995.397    8515.595\n",
      "Exterior 2nd_ImStucc    3044.6457   8510.956      0.358      0.721   -1.36e+04    1.97e+04\n",
      "Exterior 2nd_MetalSd    1198.9381   6739.586      0.178      0.859    -1.2e+04    1.44e+04\n",
      "Exterior 2nd_Other     -7818.9629   2.24e+04     -0.348      0.728   -5.18e+04    3.62e+04\n",
      "Exterior 2nd_Plywood   -5171.4748   4140.671     -1.249      0.212   -1.33e+04    2949.330\n",
      "Exterior 2nd_PreCast    4.329e+04   1.15e+04      3.778      0.000    2.08e+04    6.58e+04\n",
      "Exterior 2nd_Stone       1.86e+04    1.6e+04      1.162      0.245   -1.28e+04       5e+04\n",
      "Exterior 2nd_Stucco    -2019.0718   6354.257     -0.318      0.751   -1.45e+04    1.04e+04\n",
      "Exterior 2nd_VinylSd   -1268.3990   5655.790     -0.224      0.823   -1.24e+04    9823.902\n",
      "Exterior 2nd_Wd Sdng    -552.0093   4250.285     -0.130      0.897   -8887.793    7783.774\n",
      "Exterior 2nd_Wd Shng   -8486.9184   4856.132     -1.748      0.081    -1.8e+04    1037.070\n",
      "Mas Vnr Type_BrkCmn    -5930.5005   4271.929     -1.388      0.165   -1.43e+04    2447.731\n",
      "Mas Vnr Type_BrkFace   -1598.5305   1865.043     -0.857      0.391   -5256.308    2059.247\n",
      "Mas Vnr Type_CBlock     1.458e-12    3.9e-12      0.373      0.709    -6.2e-12    9.11e-12\n",
      "Mas Vnr Type_None       5022.4834   1824.335      2.753      0.006    1444.544    8600.423\n",
      "Mas Vnr Type_Stone      1370.3944   2269.031      0.604      0.546   -3079.695    5820.484\n",
      "Mas Vnr Type_unk        6261.5203   4623.092      1.354      0.176   -2805.424    1.53e+04\n",
      "Foundation_BrkTil      -2868.3677   3251.915     -0.882      0.378   -9246.119    3509.383\n",
      "Foundation_CBlock      -1600.1077   2948.567     -0.543      0.587   -7382.925    4182.709\n",
      "Foundation_PConc         277.8631   3037.722      0.091      0.927   -5679.806    6235.532\n",
      "Foundation_Slab         2.012e+04   5557.306      3.621      0.000    9223.549     3.1e+04\n",
      "Foundation_Stone        6301.9142   7241.176      0.870      0.384   -7899.693    2.05e+04\n",
      "Foundation_Wood        -1.711e+04   1.16e+04     -1.480      0.139   -3.98e+04    5562.987\n",
      "Central Air_N           2426.4639   1950.172      1.244      0.214   -1398.271    6251.199\n",
      "Central Air_Y           2698.9032   2029.853      1.330      0.184   -1282.104    6679.911\n",
      "Garage Type_2Types     -1.119e+04   4932.516     -2.269      0.023   -2.09e+04   -1516.243\n",
      "Garage Type_Attchd      1983.5729   1886.740      1.051      0.293   -1716.757    5683.903\n",
      "Garage Type_Basment     -314.2622   4577.979     -0.069      0.945   -9292.728    8664.204\n",
      "Garage Type_BuiltIn     4155.0277   2819.028      1.474      0.141   -1373.732    9683.788\n",
      "Garage Type_CarPort     -989.9749   6676.005     -0.148      0.882   -1.41e+04    1.21e+04\n",
      "Garage Type_Detchd      3330.1992   1982.532      1.680      0.093    -558.000    7218.398\n",
      "Garage Type_NA          8150.8419   3245.140      2.512      0.012    1786.378    1.45e+04\n",
      "Paved Drive_N           4042.3482   2151.138      1.879      0.060    -176.526    8261.223\n",
      "Paved Drive_P           -114.3216   2861.570     -0.040      0.968   -5726.517    5497.874\n",
      "Paved Drive_Y           1197.3405   1874.878      0.639      0.523   -2479.726    4874.407\n",
      "Sale Condition_Abnorml -1.317e+04   2559.781     -5.144      0.000   -1.82e+04   -8146.501\n",
      "Sale Condition_AdjLand  5888.9115   7178.939      0.820      0.412   -8190.634       2e+04\n",
      "Sale Condition_Alloca   6763.2788   5924.501      1.142      0.254   -4856.027    1.84e+04\n",
      "Sale Condition_Family  -6416.5109   3665.440     -1.751      0.080   -1.36e+04     772.258\n",
      "Sale Condition_Normal    355.8035   2019.681      0.176      0.860   -3605.254    4316.862\n",
      "Sale Condition_Partial   1.17e+04   2709.861      4.318      0.000    6386.043     1.7e+04\n",
      "==============================================================================\n",
      "Omnibus:                      218.234   Durbin-Watson:                   1.991\n",
      "Prob(Omnibus):                  0.000   Jarque-Bera (JB):             1846.340\n",
      "Skew:                           0.043   Prob(JB):                         0.00\n",
      "Kurtosis:                       7.683   Cond. No.                     1.33e+16\n",
      "==============================================================================\n",
      "\n",
      "Notes:\n",
      "[1] Standard Errors assume that the covariance matrix of the errors is correctly specified.\n",
      "[2] The smallest eigenvalue is 1.63e-27. This might indicate that there are\n",
      "strong multicollinearity problems or that the design matrix is singular.\n"
     ]
    }
   ],
   "source": [
    "X_train = sm.add_constant(X_train)\n",
    "model = sm.OLS(y_train, X_train)\n",
    "results = model.fit()\n",
    "print(results.summary())"
   ]
  },
  {
   "cell_type": "code",
   "execution_count": 7,
   "id": "complex-foster",
   "metadata": {},
   "outputs": [
    {
     "name": "stdout",
     "output_type": "stream",
     "text": [
      "Test MSE = 506944223\n"
     ]
    }
   ],
   "source": [
    "X_test = sm.add_constant(X_test)\n",
    "preds = results.predict(X_test)\n",
    "\n",
    "print('Test MSE = {}'.format(round(sum((preds - y_test)**2) / len(preds)), 3))"
   ]
  },
  {
   "cell_type": "markdown",
   "id": "primary-anxiety",
   "metadata": {},
   "source": [
    "Результаты показывают, что $R^2$ достигает значения *0.912*.\n",
    "\n",
    "Можно увидеть, что веса перед признаками и их стандартные отклонения чересчур большие. Кроме того, модель явно говорит нам о том, что имеет место сильная мультиколлинеарность.\n",
    "\n",
    "Также мало интерпретируемым является значение *MSE*, посчитанное на ценах."
   ]
  },
  {
   "cell_type": "markdown",
   "id": "spare-disability",
   "metadata": {},
   "source": [
    "В связи с этим возникают следующие идеи:\n",
    "* привести распределение целевой переменной к нормальному с помощью преобразования Бокса-Кокса (это так же повысит интепретируемость *MSE* из-за уменьшения разброса значений *SalePrice*);\n",
    "* проблему мультиколлинеарности может помочь решить *l2*-регуляризация;\n",
    "* для поиска оптимального значения коэффициента регуляризации можно воспользоваться кросс-валидацией."
   ]
  },
  {
   "cell_type": "markdown",
   "id": "incorporate-lying",
   "metadata": {},
   "source": [
    "## Улучшение бейзлайна"
   ]
  },
  {
   "cell_type": "markdown",
   "id": "sound-sphere",
   "metadata": {},
   "source": [
    "Применим преобразование Бокса-Кокса."
   ]
  },
  {
   "cell_type": "code",
   "execution_count": 8,
   "id": "partial-husband",
   "metadata": {},
   "outputs": [
    {
     "name": "stdout",
     "output_type": "stream",
     "text": [
      "Оптимальное лямбда = 0.09\n"
     ]
    }
   ],
   "source": [
    "y, lmbda = boxcox(y, lmbda=None)\n",
    "print('Оптимальное лямбда = {}'.format(round(lmbda, 2)))\n",
    "\n",
    "X_train, X_test, y_train, y_test = train_test_split(X, y, test_size=0.3, random_state=17)\n",
    "X_train = sm.add_constant(X_train)\n",
    "X_test = sm.add_constant(X_test)\n",
    "\n",
    "ss = StandardScaler()\n",
    "X_train[num_features] = ss.fit_transform(X_train[num_features])\n",
    "X_test[num_features] = ss.fit_transform(X_test[num_features])"
   ]
  },
  {
   "cell_type": "markdown",
   "id": "pending-consideration",
   "metadata": {},
   "source": [
    "### 1. Линейная регрессия"
   ]
  },
  {
   "cell_type": "code",
   "execution_count": 9,
   "id": "everyday-companion",
   "metadata": {},
   "outputs": [],
   "source": [
    "alphas = np.logspace(-2, 2, num=10)\n",
    "model = RidgeCV(alphas=alphas, cv=10).fit(X_train, y_train)"
   ]
  },
  {
   "cell_type": "code",
   "execution_count": 10,
   "id": "baking-district",
   "metadata": {},
   "outputs": [
    {
     "name": "stdout",
     "output_type": "stream",
     "text": [
      "Оптимальное alpha = 35.9\n",
      "R**2 на тесте = 0.918\n",
      "Test MSE = 0.104.\n",
      "Максимальный и минимальный веса модели: 0.35 и -0.21\n"
     ]
    }
   ],
   "source": [
    "preds = model.predict(X_test)\n",
    "\n",
    "print('Оптимальное alpha = {}'.format(round(model.alpha_, 1)))\n",
    "print('R**2 на тесте = {}'.format(round(model.score(X_test, y_test), 3)))\n",
    "print('Test MSE = {}.'.format(round(sum((preds - y_test)**2) / len(preds), 3)))\n",
    "print('Максимальный и минимальный веса модели: {} и {}'.format(round(max(model.coef_), 2), \n",
    "                                                               round(min(model.coef_), 2)))"
   ]
  },
  {
   "cell_type": "markdown",
   "id": "familiar-surface",
   "metadata": {},
   "source": [
    "Можно немного уточнить параметр $\\alpha$."
   ]
  },
  {
   "cell_type": "code",
   "execution_count": 11,
   "id": "satisfactory-compact",
   "metadata": {},
   "outputs": [],
   "source": [
    "alphas = np.linspace(10, 50, num=20)\n",
    "model = RidgeCV(alphas=alphas, cv=10).fit(X_train, y_train)"
   ]
  },
  {
   "cell_type": "code",
   "execution_count": 12,
   "id": "young-division",
   "metadata": {},
   "outputs": [
    {
     "name": "stdout",
     "output_type": "stream",
     "text": [
      "Оптимальное alpha = 31.1\n",
      "R**2 на тесте = 0.918\n",
      "Test MSE = 0.103.\n",
      "Максимальный и минимальный веса модели: 0.35 и -0.22\n"
     ]
    }
   ],
   "source": [
    "preds = model.predict(X_test)\n",
    "\n",
    "print('Оптимальное alpha = {}'.format(round(model.alpha_, 1)))\n",
    "print('R**2 на тесте = {}'.format(round(model.score(X_test, y_test), 3)))\n",
    "print('Test MSE = {}.'.format(round(sum((preds - y_test)**2) / len(preds), 3)))\n",
    "print('Максимальный и минимальный веса модели: {} и {}'.format(round(max(model.coef_), 2), \n",
    "                                                               round(min(model.coef_), 2)))"
   ]
  },
  {
   "cell_type": "markdown",
   "id": "early-soldier",
   "metadata": {},
   "source": [
    "Видно, что описанные выше идеи сработали, и теперь можно обучать финальную модель."
   ]
  },
  {
   "cell_type": "code",
   "execution_count": 17,
   "id": "worth-meditation",
   "metadata": {},
   "outputs": [],
   "source": [
    "model = Ridge(alpha=31.1).fit(X_train, y_train)"
   ]
  },
  {
   "cell_type": "code",
   "execution_count": 18,
   "id": "large-danish",
   "metadata": {},
   "outputs": [
    {
     "name": "stdout",
     "output_type": "stream",
     "text": [
      "R**2 на тесте = 0.918\n",
      "Test MSE = 0.103.\n",
      "Максимальный и минимальный веса модели: 0.35 и -0.22\n"
     ]
    }
   ],
   "source": [
    "preds = model.predict(X_test)\n",
    "\n",
    "print('R**2 на тесте = {}'.format(round(model.score(X_test, y_test), 3)))\n",
    "print('Test MSE = {}.'.format(round(sum((preds - y_test)**2) / len(preds), 3)))\n",
    "print('Максимальный и минимальный веса модели: {} и {}'.format(round(max(model.coef_), 2), \n",
    "                                                               round(min(model.coef_), 2)))"
   ]
  },
  {
   "cell_type": "code",
   "execution_count": 19,
   "id": "palestinian-thanks",
   "metadata": {},
   "outputs": [
    {
     "data": {
      "text/plain": [
       "0.014"
      ]
     },
     "execution_count": 19,
     "metadata": {},
     "output_type": "execute_result"
    }
   ],
   "source": [
    "a = inv_boxcox(preds, lmbda)\n",
    "b = inv_boxcox(y_test, lmbda)\n",
    "\n",
    "a = np.log(a)\n",
    "b = np.log(b)\n",
    "\n",
    "round(sum((a - b)**2) / len(a), 3)"
   ]
  },
  {
   "cell_type": "markdown",
   "id": "tight-verse",
   "metadata": {},
   "source": [
    "## Визуализация"
   ]
  },
  {
   "cell_type": "code",
   "execution_count": 48,
   "id": "compact-salon",
   "metadata": {},
   "outputs": [],
   "source": [
    "predicted = pd.DataFrame(preds, columns=['Predicts'])\n",
    "test = pd.DataFrame(y_test, columns=['Test']).reset_index().iloc[:, 1:]\n",
    "\n",
    "frame = pd.concat([test, predicted], axis=1)\n",
    "frame['y'] = np.random.choice([1., 0.], size=len(frame))"
   ]
  },
  {
   "cell_type": "code",
   "execution_count": 53,
   "id": "natural-salon",
   "metadata": {},
   "outputs": [
    {
     "data": {
      "image/png": "[encoded data removed]",
      "text/plain": [
       "<Figure size 504x504 with 1 Axes>"
      ]
     },
     "metadata": {
      "needs_background": "light"
     },
     "output_type": "display_data"
    }
   ],
   "source": [
    "sns.pairplot(data=frame, x_vars=['Test'], y_vars=['Predicts'], size=7);"
   ]
  },
  {
   "cell_type": "code",
   "execution_count": null,
   "id": "fabulous-lottery",
   "metadata": {},
   "outputs": [],
   "source": []
  }
 ],
 "metadata": {
  "kernelspec": {
   "display_name": "Python 3",
   "language": "python",
   "name": "python3"
  },
  "language_info": {
   "codemirror_mode": {
    "name": "ipython",
    "version": 3
   },
   "file_extension": ".py",
   "mimetype": "text/x-python",
   "name": "python",
   "nbconvert_exporter": "python",
   "pygments_lexer": "ipython3",
   "version": "3.7.9"
  }
 },
 "nbformat": 4,
 "nbformat_minor": 5
}
